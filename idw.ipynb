{
 "cells": [
  {
   "cell_type": "code",
   "execution_count": 26,
   "metadata": {},
   "outputs": [],
   "source": [
    "import geopandas as gpd\n",
    "import pandas as pd\n",
    "import numpy as np\n",
    "from scipy.spatial import KDTree\n",
    "from sklearn.model_selection import KFold\n",
    "from sklearn.metrics import mean_squared_error"
   ]
  },
  {
   "cell_type": "code",
   "execution_count": 22,
   "metadata": {},
   "outputs": [],
   "source": [
    "\n",
    "def idw_interpolation(gdf, grid_gdf, radius, exponent, vname=''):\n",
    "    \"\"\"\n",
    "    Realiza interpolación mediante el método IDW y agrega una columna con las predicciones al GeoDataFrame de la grilla.\n",
    "\n",
    "    Args:\n",
    "        gdf (geopandas.GeoDataFrame): DataFrame con los datos.\n",
    "        grid_gdf (geopandas.GeoDataFrame): GeoDataFrame con la grilla de puntos a interpolar.\n",
    "        radius (float): Radio de influencia.\n",
    "        exponent (float): Exponente de la ponderación.\n",
    "        vname (str): Nombre de la columna en gdf que contiene los valores a interpolar.\n",
    "\n",
    "    Returns:\n",
    "        geopandas.GeoDataFrame: GeoDataFrame con la geometría de la grilla y una nueva columna de predicciones.\n",
    "    \"\"\"\n",
    "    # Crear un nuevo GeoDataFrame solo con la geometría de la grilla\n",
    "    interpolated_gdf = gpd.GeoDataFrame({'geometry': grid_gdf['geometry'], 'obs': grid_gdf[vname]})\n",
    "    \n",
    "    # Iterar sobre los puntos de la grilla\n",
    "    for idx, point in interpolated_gdf.iterrows():\n",
    "        distances = gdf.distance(point.geometry)\n",
    "        weights = 1 / (distances + 0.000001) ** exponent  # Se agrega un pequeño valor para evitar divisiones por cero\n",
    "        interpolated_value = np.sum(weights * gdf[vname]) / np.sum(weights)\n",
    "        interpolated_gdf.loc[idx, 'pred'] = interpolated_value\n",
    "    \n",
    "    return interpolated_gdf\n",
    "\n",
    "\n",
    "def average_nearest_neighbor_distance(gdf):\n",
    "    \"\"\"\n",
    "    Calcula la distancia promedio al vecino más cercano para un GeoDataFrame de puntos.\n",
    "\n",
    "    Args:\n",
    "        gdf (geopandas.GeoDataFrame): GeoDataFrame que contiene geometrías de puntos.\n",
    "\n",
    "    Returns:\n",
    "        float: Distancia promedio al vecino más cercano.\n",
    "    \"\"\"\n",
    "    # Extraer las coordenadas de los puntos en el GeoDataFrame\n",
    "    points = gdf.geometry.apply(lambda point: (point.x, point.y)).tolist()\n",
    "\n",
    "    # Construir el árbol KD\n",
    "    tree = KDTree(points)\n",
    "\n",
    "    # Calcular la distancia al vecino más cercano para cada punto\n",
    "    distances, _ = tree.query(points, k=2)  # k=2 para encontrar el vecino más cercano (el punto en sí mismo es el más cercano)\n",
    "\n",
    "    # La distancia al vecino más cercano de cada punto es la segunda columna de la matriz distances\n",
    "    nearest_distances = distances[:, 1]\n",
    "\n",
    "    # Calcular la distancia promedio al vecino más cercano\n",
    "    average_nearest_distance = nearest_distances.mean()\n",
    "\n",
    "    return average_nearest_distance"
   ]
  },
  {
   "cell_type": "code",
   "execution_count": 29,
   "metadata": {},
   "outputs": [],
   "source": [
    "# Cargar tus datos en un GeoDataFrame\n",
    "data = gpd.read_file(filename=\"Data/ECa.gpkg\",layer=\"EC_field_04\")\n",
    "folds = 5"
   ]
  },
  {
   "cell_type": "code",
   "execution_count": 30,
   "metadata": {},
   "outputs": [
    {
     "name": "stdout",
     "output_type": "stream",
     "text": [
      "idp: 1.0  - rmse: 4.065500333868567\n",
      "idp: 1.25  - rmse: 3.758416223502052\n",
      "idp: 1.5  - rmse: 3.3765227351924407\n",
      "idp: 1.75  - rmse: 2.98349223269883\n",
      "idp: 2.0  - rmse: 2.666965079886286\n",
      "idp: 2.25  - rmse: 2.467366772827795\n",
      "idp: 2.5  - rmse: 2.364355930380039\n",
      "idp: 2.75  - rmse: 2.318935716481858\n",
      "idp: 3.0  - rmse: 2.30224011360094\n"
     ]
    }
   ],
   "source": [
    "X = data['geometry']\n",
    "kf = KFold(n_splits=folds,shuffle=True, random_state=701408733)\n",
    "kf.get_n_splits(X)\n",
    "dist_nn = average_nearest_neighbor_distance(data)\n",
    "idps = np.arange(1, 3.25, 0.25)\n",
    "best_rmse, best_idp, best_prediction = np.inf, None, None\n",
    "for idp in idps:\n",
    "    for i, (train_index, test_index) in enumerate(kf.split(X)):\n",
    "        if i==0:\n",
    "            temp_gdf = idw_interpolation(gdf=data.iloc[train_index],grid_gdf=data.iloc[test_index],vname='EC30',exponent=idp,radius=dist_nn*10)\n",
    "        else:  \n",
    "            trained_gdf = idw_interpolation(gdf=data.iloc[train_index],grid_gdf=data.iloc[test_index],vname='EC30',exponent=idp,radius=dist_nn*10)\n",
    "            temp_gdf = pd.concat([temp_gdf,trained_gdf])\n",
    "    # Calculating the RMSE using the observed and predicted values ​​in the DataFrame\n",
    "    rmse = np.sqrt(mean_squared_error(temp_gdf['obs'], temp_gdf['pred']))\n",
    "    print(\"idp:\",round(idp,2),\" - rmse:\",round(rmse,2))\n",
    "    if best_rmse>rmse:\n",
    "        best_rmse, best_idp, best_prediction=rmse, idp, temp_gdf"
   ]
  },
  {
   "cell_type": "code",
   "execution_count": 28,
   "metadata": {},
   "outputs": [
    {
     "name": "stdout",
     "output_type": "stream",
     "text": [
      "[1.   1.25 1.5  1.75 2.   2.25 2.5  2.75 3.  ]\n"
     ]
    }
   ],
   "source": [
    "array = np.arange(1, 3.25, 0.25)\n",
    "print(array)"
   ]
  },
  {
   "cell_type": "code",
   "execution_count": 24,
   "metadata": {},
   "outputs": [
    {
     "name": "stdout",
     "output_type": "stream",
     "text": [
      "                            geometry   obs       pred\n",
      "4     POINT (301919.415 5817068.537)  27.7  30.480018\n",
      "5     POINT (301920.790 5817070.014)  26.5  26.829074\n",
      "8     POINT (301925.427 5817075.122)  25.5  26.138285\n",
      "16    POINT (301940.188 5817091.688)  19.4  19.917757\n",
      "25    POINT (301966.960 5817121.867)  19.9  17.738698\n",
      "...                              ...   ...        ...\n",
      "3021  POINT (301840.127 5817898.604)  16.6  18.205726\n",
      "3022  POINT (301842.954 5817902.003)  17.6  17.780893\n",
      "3030  POINT (301869.268 5817933.059)  18.2  19.661280\n",
      "3032  POINT (301879.196 5817941.736)  21.6  20.898663\n",
      "3038  POINT (301904.973 5817943.800)  19.2  23.005567\n",
      "\n",
      "[3039 rows x 3 columns]\n"
     ]
    }
   ],
   "source": [
    "print(temp_gdf)"
   ]
  }
 ],
 "metadata": {
  "kernelspec": {
   "display_name": "venv",
   "language": "python",
   "name": "python3"
  },
  "language_info": {
   "codemirror_mode": {
    "name": "ipython",
    "version": 3
   },
   "file_extension": ".py",
   "mimetype": "text/x-python",
   "name": "python",
   "nbconvert_exporter": "python",
   "pygments_lexer": "ipython3",
   "version": "3.11.8"
  }
 },
 "nbformat": 4,
 "nbformat_minor": 2
}
