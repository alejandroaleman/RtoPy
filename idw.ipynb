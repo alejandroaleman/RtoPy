{
 "cells": [
  {
   "cell_type": "code",
   "execution_count": 1,
   "metadata": {},
   "outputs": [],
   "source": [
    "import geopandas as gpd\n",
    "import pandas as pd\n",
    "import numpy as np\n",
    "import matplotlib.pyplot as plt\n",
    "import matplotlib.colors as mcolors\n",
    "from shapely.geometry import Point, Polygon\n",
    "from scipy.spatial import KDTree\n",
    "from sklearn.model_selection import KFold\n",
    "from sklearn.metrics import mean_squared_error\n",
    "from matplotlib.patches import Patch\n",
    "from matplotlib.lines import Line2D"
   ]
  },
  {
   "cell_type": "code",
   "execution_count": 22,
   "metadata": {},
   "outputs": [],
   "source": [
    "\n",
    "def idw_interpolation(gdf, grid_gdf, radius=0, exponent=2, vname=''):\n",
    "    # Crear un nuevo GeoDataFrame solo con la geometría de la grilla\n",
    "    interpolated_gdf = gpd.GeoDataFrame({'geometry': grid_gdf['geometry']})\n",
    "    if radius==0:\n",
    "        # Iterar sobre los puntos de la grilla\n",
    "        for idx, point in interpolated_gdf.iterrows():\n",
    "            distances = gdf.distance(point.geometry)\n",
    "            weights = 1 / (distances + 0.000001) ** exponent  # Se agrega un pequeño valor para evitar divisiones por cero\n",
    "            interpolated_value = np.sum(weights * gdf[vname]) / np.sum(weights)\n",
    "            interpolated_gdf.loc[idx, 'pred'] = interpolated_value\n",
    "    else:\n",
    "        # Iterar sobre los puntos de la grilla\n",
    "        for idx, point in interpolated_gdf.iterrows():\n",
    "            distances = gdf.distance(point.geometry)\n",
    "            if len(distances[distances <= radius])!=0:\n",
    "                # Aplicar distancia máxima (radius)\n",
    "                distances = distances[distances <= radius]\n",
    "            else:\n",
    "                distances = distances[distances <= radius*2]\n",
    "            if len(distances)==0:print(\"No hay puntos\")\n",
    "            weights = 1 / (distances + 0.000001) ** exponent  # Se agrega un pequeño valor para evitar divisiones por cero\n",
    "            interpolated_value = np.sum(weights * gdf[vname].loc[distances.index]) / np.sum(weights)\n",
    "            interpolated_gdf.loc[idx, 'pred'] = interpolated_value\n",
    "    return interpolated_gdf\n",
    "\n",
    "\n",
    "def average_nearest_neighbor_distance(gdf):\n",
    "    \"\"\"\n",
    "    Calcula la distancia promedio al vecino más cercano para un GeoDataFrame de puntos.\n",
    "\n",
    "    Args:\n",
    "        gdf (geopandas.GeoDataFrame): GeoDataFrame que contiene geometrías de puntos.\n",
    "\n",
    "    Returns:\n",
    "        float: Distancia promedio al vecino más cercano.\n",
    "    \"\"\"\n",
    "    # Extraer las coordenadas de los puntos en el GeoDataFrame\n",
    "    points = gdf.geometry.apply(lambda point: (point.x, point.y)).tolist()\n",
    "\n",
    "    # Construir el árbol KD\n",
    "    tree = KDTree(points)\n",
    "\n",
    "    # Calcular la distancia al vecino más cercano para cada punto\n",
    "    distances, _ = tree.query(points, k=2)  # k=2 para encontrar el vecino más cercano (el punto en sí mismo es el más cercano)\n",
    "\n",
    "    # La distancia al vecino más cercano de cada punto es la segunda columna de la matriz distances\n",
    "    nearest_distances = distances[:, 1]\n",
    "\n",
    "    # Calcular la distancia promedio al vecino más cercano\n",
    "    average_nearest_distance = nearest_distances.mean()\n",
    "\n",
    "    return average_nearest_distance\n",
    "\n",
    "\n",
    "def plot_predictions(predictions,vname = 'pred',\n",
    "colors = [],breaks = [],\n",
    "plot_size=[10,10], show_plot=True,plot_title = 'Predictions over the grid',\n",
    "legend_title='Legend',legend=True):\n",
    "    if len(colors)==0 and len(breaks)==0:\n",
    "        colors = ['#8FE60C','#ADFF2F','#FFFF00','#FFD700','#FF4500','#FF2500','#FF0000']\n",
    "        min, max = int(predictions[vname].min())-1,int(predictions[vname].max())+1\n",
    "        breaks = np.linspace(min, max, 8, endpoint=True)\n",
    "        breaks = np.round(breaks).astype(int)\n",
    "        print(len(breaks))\n",
    "    elif len(colors)+1!=len(breaks):\n",
    "        return \"You must specify a color for each interval\"\n",
    "    elif len(plot_size)!=2 or not isinstance(plot_size,list):\n",
    "        return \"The size of the graph must be specified in a list of two elements\"\n",
    "    elif not isinstance(predictions,gpd.GeoDataFrame):\n",
    "        return \"The grid with the predictions is expected to be a GeoDataFrame\"\n",
    "    elif not vname in predictions.columns:\n",
    "        return \"The name of the variable to plot is not found in the grid\"    \n",
    "    # Create the custom color scale\n",
    "    cmap = mcolors.ListedColormap(colors)\n",
    "    # Define color boundaries\n",
    "    norm = mcolors.BoundaryNorm(breaks, cmap.N)\n",
    "    # Create a figure and its axes\n",
    "    fig, ax = plt.subplots(figsize=(8, 8))\n",
    "    # Plot the grid with predictions\n",
    "    predictions.plot(ax=ax, column=vname, cmap=cmap, norm=norm,legend=False)\n",
    "    # Add plot title\n",
    "    ax.set_title(plot_title)\n",
    "    # Removing the x y axis from plot\n",
    "    ax.set_xticks([])\n",
    "    ax.set_yticks([])\n",
    "    ax.set_xticklabels([])\n",
    "    ax.set_yticklabels([])\n",
    "    if legend:\n",
    "        # Create a custom legend\n",
    "        legend_elements = []\n",
    "        for i in range(1,len(breaks)):\n",
    "            legend_elements.append(Line2D([0], [0], marker='s', color='w', label=f'{breaks[i-1]}-{breaks[i]}', markerfacecolor=colors[i-1], markersize=10))\n",
    "        # Add the legend to plot\n",
    "        ax.legend(handles=legend_elements, title=legend_title)\n",
    "    # Show the plot\n",
    "    if show_plot:\n",
    "        plt.show()\n",
    "    # Return the figure and plot\n",
    "    return fig, ax\n",
    "\n",
    "def idw_cross_validation(data = None,vname='',\n",
    "folds = 5,seed = None,\n",
    "debug=False,plot_res=False,\n",
    "idps = np.arange(1, 3.25, 0.25),\n",
    "restringe=False,dist_m=np.array([5,10,100,1000]),\n",
    "bound_grid = None, grid_res = 10, grid_geom = 'Point'):\n",
    "    if not isinstance(data,gpd.GeoDataFrame):\n",
    "        return \"Falta el parametro data que espera un objeto del tipo GeoPandas\"\n",
    "    X = data['geometry']\n",
    "    kf = KFold(n_splits=folds,shuffle=True, random_state=seed)\n",
    "    kf.get_n_splits(X)\n",
    "    result = pd.DataFrame({'idp':[],'rmse':[],'dist':[]})\n",
    "    if restringe:\n",
    "        dist_nn = average_nearest_neighbor_distance(data)\n",
    "        best_rmse, best_idp, best_prediction, best_dist = np.inf, None, None, None\n",
    "        for dist in dist_m:\n",
    "            for idp in idps:\n",
    "                if debug:print(\"idp:\",round(idp,2), \" - Dist: \", dist,\" ...\")\n",
    "                for i, (train_index, test_index) in enumerate(kf.split(X)):\n",
    "                    if i==0:\n",
    "                        temp_gdf = idw_interpolation(gdf=data.iloc[train_index],grid_gdf=data.iloc[test_index],vname=vname,exponent=idp,radius=dist_nn*dist)\n",
    "                        temp_gdf['obs']=data.iloc[test_index][vname].values\n",
    "                    else:  \n",
    "                        trained_gdf = idw_interpolation(gdf=data.iloc[train_index],grid_gdf=data.iloc[test_index],vname=vname,exponent=idp,radius=dist_nn*dist)\n",
    "                        trained_gdf['obs']=data.iloc[test_index][vname].values\n",
    "                        temp_gdf = pd.concat([temp_gdf,trained_gdf])\n",
    "                # Calculating the RMSE using the observed and predicted values ​​in the DataFrame\n",
    "                rmse = np.sqrt(mean_squared_error(temp_gdf['obs'], temp_gdf['pred']))\n",
    "                result = pd.concat([result, pd.DataFrame({'idp':[idp],'rmse':[rmse],'dist':[dist]})])\n",
    "                if debug:print(\"RMSE: \",round(rmse,2))\n",
    "                if best_rmse>rmse:\n",
    "                    best_rmse, best_idp, best_prediction, best_dist = rmse, idp, temp_gdf, dist\n",
    "        print(\"Best idp: \",best_idp,\" - Best distance: \",best_dist,\" - Best RMSE: \",best_rmse)\n",
    "        if plot_res:\n",
    "            dist_values = result['dist'].unique()\n",
    "            plt.figure(figsize=(10, 6))\n",
    "            for dist_value in dist_values:\n",
    "                subset = result[result['dist'] == dist_value]\n",
    "                plt.plot(subset['idp'], subset['rmse'], marker='o', linestyle='-', label=f'Dist: {dist_value}')\n",
    "            plt.xlabel('IDP')\n",
    "            plt.ylabel('RMSE')\n",
    "            plt.title('IDP vs RMSE for Different Distances')\n",
    "            plt.legend()\n",
    "            plt.grid(True)\n",
    "            plt.show()\n",
    "        if isinstance(bound_grid, gpd.GeoDataFrame):\n",
    "            print(\"Predicting over the grid...\")\n",
    "            # Creating a grid of points with the resolution specified in grid_res within the polygon area\n",
    "            minx, miny, maxx, maxy = bound_grid.total_bounds\n",
    "            x_coords = range(int(minx), int(maxx), grid_res)\n",
    "            y_coords = range(int(miny), int(maxy), grid_res)       \n",
    "            # Create an empty list to store the grid points\n",
    "            grid_points = []\n",
    "            # Iterate over each coordinate in the grid\n",
    "            for x in x_coords:\n",
    "                for y in y_coords:\n",
    "                    # Create a point with the current coordinates\n",
    "                    point = Point(x + grid_res/2, y + grid_res/2)  # Use the center point of each cell                \n",
    "                    # Add the point to the list\n",
    "                    grid_points.append(point)\n",
    "            # Create a GeoDataFrame from the list of points\n",
    "            grid = gpd.GeoDataFrame(geometry=grid_points, crs=bound_grid.crs)\n",
    "            # Intersect the grid with the polygon to eliminate cells that are outside the perimeter\n",
    "            intersect_grid = gpd.overlay(grid, bound_grid, how='intersection')\n",
    "            # Apply the IDW model to predict the values ​​on the grid\n",
    "            intersect_grid = idw_interpolation(gdf=data,grid_gdf=intersect_grid,vname=vname,exponent=best_idp,radius=dist_nn*best_dist)\n",
    "            # If required, transform the Point grid to a Polygon grid\n",
    "            if grid_geom=='Polygon':\n",
    "                grid_poly=[]\n",
    "                for punto in intersect_grid['geometry']:\n",
    "                    x, y = punto.x, punto.y\n",
    "                    grid_poly.append(Polygon([(x-grid_res/2, y-grid_res/2), (x+grid_res/2, y-grid_res/2), (x+grid_res/2, y+grid_res/2), (x-grid_res/2, y+grid_res/2)]))\n",
    "                intersect_grid = gpd.GeoDataFrame({'geometry': grid_poly, 'pred': intersect_grid['pred']})\n",
    "        else:\n",
    "            intersect_grid = gpd.GeoDataFrame(columns=['geometry','pred'], geometry='geometry')\n",
    "        return best_prediction, result, intersect_grid, best_idp, best_rmse, best_dist\n",
    "    else:\n",
    "        best_rmse, best_idp, best_prediction, best_dist = np.inf, None, None, None       \n",
    "        for idp in idps:\n",
    "            if debug:print(\"idp:\",round(idp,2),\" ...\")\n",
    "            for i, (train_index, test_index) in enumerate(kf.split(X)):\n",
    "                if i==0:\n",
    "                    temp_gdf = idw_interpolation(gdf=data.iloc[train_index],grid_gdf=data.iloc[test_index],vname=vname,exponent=idp)\n",
    "                    temp_gdf['obs']=data.iloc[test_index][vname].values\n",
    "                else:  \n",
    "                    trained_gdf = idw_interpolation(gdf=data.iloc[train_index],grid_gdf=data.iloc[test_index],vname=vname,exponent=idp)\n",
    "                    trained_gdf['obs']=data.iloc[test_index][vname].values\n",
    "                    temp_gdf = pd.concat([temp_gdf,trained_gdf])\n",
    "            # Calculating the RMSE using the observed and predicted values ​​in the DataFrame\n",
    "            rmse = np.sqrt(mean_squared_error(temp_gdf['obs'], temp_gdf['pred']))\n",
    "            result = pd.concat([result, pd.DataFrame({'idp':[idp],'rmse':[rmse],'dist':[None]})])\n",
    "            if debug:print(\"RMSE: \",round(rmse,2))\n",
    "            if best_rmse>rmse:\n",
    "                best_rmse, best_idp, best_prediction = rmse, idp, temp_gdf\n",
    "        print(\"Best idp: \",best_idp,\" - Best RMSE: \",best_rmse)\n",
    "        if plot_res:\n",
    "            plt.figure(figsize=(10, 6))\n",
    "            plt.plot(result['idp'], result['rmse'], marker='o', linestyle='-')\n",
    "            plt.xlabel('IDP')\n",
    "            plt.ylabel('RMSE')\n",
    "            plt.title('IDP vs RMSE')\n",
    "            plt.legend()\n",
    "            plt.grid(True)\n",
    "            plt.show()\n",
    "        if isinstance(bound_grid, gpd.GeoDataFrame):\n",
    "            print(\"Predicting over the grid...\")\n",
    "            # Creating a grid of points with the resolution specified in grid_res within the polygon area\n",
    "            minx, miny, maxx, maxy = bound_grid.total_bounds\n",
    "            x_coords = range(int(minx), int(maxx), grid_res)\n",
    "            y_coords = range(int(miny), int(maxy), grid_res)       \n",
    "            # Create an empty list to store the grid points\n",
    "            grid_points = []\n",
    "            # Iterate over each coordinate in the grid\n",
    "            for x in x_coords:\n",
    "                for y in y_coords:\n",
    "                    # Create a point with the current coordinates\n",
    "                    point = Point(x + grid_res/2, y + grid_res/2)  # Use the center point of each cell                \n",
    "                    # Add the point to the list\n",
    "                    grid_points.append(point)\n",
    "            # Create a GeoDataFrame from the list of points\n",
    "            grid = gpd.GeoDataFrame(geometry=grid_points, crs=bound_grid.crs)\n",
    "            # Intersect the grid with the polygon to eliminate cells that are outside the perimeter\n",
    "            intersect_grid = gpd.overlay(grid, bound_grid, how='intersection')\n",
    "            # Apply the IDW model to predict the values ​​on the grid\n",
    "            intersect_grid = idw_interpolation(gdf=data,grid_gdf=intersect_grid,vname=vname,exponent=best_idp)\n",
    "            # If required, transform the Point grid to a Polygon grid\n",
    "            if grid_geom=='Polygon':\n",
    "                grid_poly=[]\n",
    "                for punto in intersect_grid['geometry']:\n",
    "                    x, y = punto.x, punto.y\n",
    "                    grid_poly.append(Polygon([(x-grid_res/2, y-grid_res/2), (x+grid_res/2, y-grid_res/2), (x+grid_res/2, y+grid_res/2), (x-grid_res/2, y+grid_res/2)]))\n",
    "                intersect_grid = gpd.GeoDataFrame({'geometry': grid_poly, 'pred': intersect_grid['pred']})\n",
    "        else:\n",
    "            intersect_grid = gpd.GeoDataFrame(columns=['geometry','pred'], geometry='geometry')\n",
    "        return best_prediction, result, intersect_grid, best_idp, best_rmse, best_dist"
   ]
  },
  {
   "cell_type": "code",
   "execution_count": null,
   "metadata": {},
   "outputs": [],
   "source": [
    "# Cargar tus datos en un GeoDataFrame\n",
    "data = gpd.read_file(filename=\"Data/ECa.gpkg\",layer=\"EC_field_04\")\n",
    "pred, list_idp, idp, rmse, dist = idw_cross_validation(data=data,vname='EC30',seed=701408733)"
   ]
  },
  {
   "cell_type": "code",
   "execution_count": null,
   "metadata": {},
   "outputs": [],
   "source": [
    "# Cargar tus datos en un GeoDataFrame\n",
    "data = gpd.read_file(filename=\"Data/ECa.gpkg\",layer=\"EC_field_02\")\n",
    "pred, list_idp, idp, rmse, dist = idw_cross_validation(data=data,vname='EC30',seed=701408733,restringe=True,dist_m=np.array([5,10,100]))"
   ]
  },
  {
   "cell_type": "code",
   "execution_count": null,
   "metadata": {},
   "outputs": [],
   "source": [
    "# Cargar tus datos en un GeoDataFrame\n",
    "data = gpd.read_file(filename=\"Data/ECa.gpkg\",layer=\"EC_field_02\")\n",
    "pred, list_idp, idp, rmse, dist = idw_cross_validation(data=data,vname='EC30',seed=701408733,idps=np.arange(1,2.75,0.25),\n",
    "restringe=True,dist_m=np.array([5,10,100]),plot_res=True,debug=True)"
   ]
  },
  {
   "cell_type": "code",
   "execution_count": 8,
   "metadata": {},
   "outputs": [
    {
     "name": "stdout",
     "output_type": "stream",
     "text": [
      "Best idp:  3  - Best distance:  5  - Best RMSE:  2.295533522970033\n",
      "Predicting over the grid...\n"
     ]
    }
   ],
   "source": [
    "# Cargar tus datos en un GeoDataFrame\n",
    "data = gpd.read_file(filename=\"Data/ECa.gpkg\",layer=\"EC_field_04\")\n",
    "bound = gpd.read_file(filename=\"Data/F05_boundary.gpkg\")\n",
    "# pred, result, grid, idp, rmse, dist = idw_cross_validation(data=data,vname='EC30',plot_res=True,bound_grid=bound,grid_geom='Polygon',seed=701408733,restringe=True,dist_m=np.array([5,10]),idps=np.arange(2.5,4.25,0.25))\n",
    "pred, result, grid = idw_cross_validation(data=data,vname='EC30',bound_grid=bound,grid_geom='Polygon',seed=701408733,restringe=True,dist_m=np.array([5]),idps=np.array([3]))[:3]"
   ]
  },
  {
   "cell_type": "code",
   "execution_count": 24,
   "metadata": {},
   "outputs": [
    {
     "data": {
      "image/png": "[encoded data removed]",
      "text/plain": [
       "<Figure size 800x800 with 1 Axes>"
      ]
     },
     "metadata": {},
     "output_type": "display_data"
    },
    {
     "data": {
      "text/plain": [
       "(<Figure size 800x800 with 1 Axes>, <Axes: title={'center': 'EC_field_04'}>)"
      ]
     },
     "execution_count": 24,
     "metadata": {},
     "output_type": "execute_result"
    }
   ],
   "source": [
    "colors = [\n",
    "    '#00DE00',\n",
    "    '#8FE60C',\n",
    "    '#ADFF2F',\n",
    "    '#FFFF00',\n",
    "    '#FFD700',\n",
    "    '#FFA500',\n",
    "    '#FF4500',\n",
    "    '#FF2500',\n",
    "    '#FF0000'\n",
    "]\n",
    "breaks = [10, 15, 20, 25, 30, 35, 40, 45, 50 , 55]\n",
    "#breaks = [10, 20, 30, 40, 50, 60]\n",
    "plot_predictions(predictions=grid,colors=colors,breaks=breaks,plot_title='EC_field_04',legend_title='ECa [dS/m]')"
   ]
  },
  {
   "cell_type": "code",
   "execution_count": 23,
   "metadata": {},
   "outputs": [
    {
     "name": "stdout",
     "output_type": "stream",
     "text": [
      "8\n"
     ]
    },
    {
     "data": {
      "image/png": "[encoded data removed]",
      "text/plain": [
       "<Figure size 800x800 with 1 Axes>"
      ]
     },
     "metadata": {},
     "output_type": "display_data"
    },
    {
     "data": {
      "text/plain": [
       "(<Figure size 800x800 with 1 Axes>, <Axes: title={'center': 'EC_field_04'}>)"
      ]
     },
     "execution_count": 23,
     "metadata": {},
     "output_type": "execute_result"
    }
   ],
   "source": [
    "plot_predictions(predictions=grid,plot_title='EC_field_04',legend_title='ECa [dS/m]')"
   ]
  },
  {
   "cell_type": "code",
   "execution_count": 2,
   "metadata": {},
   "outputs": [],
   "source": [
    "sunflower = gpd.read_file(filename=\"Data/F05_sunflower_0708.gpkg\")\n"
   ]
  }
 ],
 "metadata": {
  "kernelspec": {
   "display_name": "venv",
   "language": "python",
   "name": "python3"
  },
  "language_info": {
   "codemirror_mode": {
    "name": "ipython",
    "version": 3
   },
   "file_extension": ".py",
   "mimetype": "text/x-python",
   "name": "python",
   "nbconvert_exporter": "python",
   "pygments_lexer": "ipython3",
   "version": "3.11.8"
  }
 },
 "nbformat": 4,
 "nbformat_minor": 2
}
