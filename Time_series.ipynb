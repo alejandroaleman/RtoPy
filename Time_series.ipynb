{
 "cells": [
  {
   "cell_type": "code",
   "execution_count": null,
   "metadata": {},
   "outputs": [],
   "source": [
    "# Import modules\n",
    "import ee\n",
    "import numpy as np\n",
    "import pandas as pd\n",
    "import matplotlib.pyplot as plt\n",
    "from pprint import pprint\n",
    "\n",
    "# Modules required for example 4\n",
    "import folium\n",
    "import clipboard "
   ]
  },
  {
   "cell_type": "code",
   "execution_count": null,
   "metadata": {},
   "outputs": [],
   "source": [
    "# Trigger the authentication flow.\n",
    "#ee.Authenticate()\n",
    "\n",
    "# Initialize the library.\n",
    "ee.Initialize()"
   ]
  },
  {
   "cell_type": "code",
   "execution_count": null,
   "metadata": {},
   "outputs": [],
   "source": [
    "# Define function to create dataframe from GEE data\n",
    "def array_to_df(arr):\n",
    "    \"\"\"Function to convert list into dataframe\"\"\"\n",
    "    df = pd.DataFrame(arr[1:])\n",
    "    df.columns = arr[0]\n",
    "    df['time'] = pd.to_datetime(df['time'], unit='ms')\n",
    "    return df"
   ]
  },
  {
   "cell_type": "code",
   "execution_count": null,
   "metadata": {},
   "outputs": [],
   "source": [
    "# Get collection for Modis 16-day\n",
    "MCD43A4 = ee.ImageCollection('MODIS/MCD43A4_006_EVI').filterDate('2021-01-01','2021-12-31')\n",
    "EVI = MCD43A4.select('EVI')"
   ]
  },
  {
   "cell_type": "code",
   "execution_count": null,
   "metadata": {},
   "outputs": [],
   "source": [
    "# Define point of interest\n",
    "konza_point = ee.Geometry.Point([-96.556316, 39.084535])\n",
    "# Get data for region\n",
    "konza_evi = EVI.getRegion(konza_point, scale=1).getInfo()"
   ]
  },
  {
   "cell_type": "code",
   "execution_count": null,
   "metadata": {},
   "outputs": [],
   "source": [
    "df_konza = array_to_df(konza_evi)"
   ]
  },
  {
   "cell_type": "code",
   "execution_count": null,
   "metadata": {},
   "outputs": [],
   "source": [
    "# Create figure to visualize time series\n",
    "plt.figure(figsize=(6,4))\n",
    "plt.title('EVI Konza 2021')\n",
    "plt.plot(df_konza['time'], df_konza['EVI'], linestyle='-', \n",
    "         linewidth=1, marker='o', color='green')\n",
    "plt.xlabel('Date')\n",
    "plt.ylabel('EVI')\n",
    "#plt.savefig('evi_figure.png', dpi=300)\n",
    "plt.show()"
   ]
  },
  {
   "cell_type": "code",
   "execution_count": null,
   "metadata": {},
   "outputs": [],
   "source": [
    "# Define locations\n",
    "eastern_ks = ee.Geometry.Point([-95.317201, 38.588548]) # Near Ottawa, KS\n",
    "western_ks = ee.Geometry.Point([-101.721117, 38.517258]) # Near Tribune, KS\n",
    "\n",
    "# Load EDDI product\n",
    "gridmet_drought = ee.ImageCollection(\"GRIDMET/DROUGHT\").filterDate('2021-01-01','2022-12-31')\n",
    "eddi = gridmet_drought.select('eddi14d')\n",
    "\n",
    "# Get eddie for points\n",
    "eastern_eddi = eddi.getRegion(eastern_ks, scale=1).getInfo()\n",
    "western_eddi = eddi.getRegion(western_ks, scale=1).getInfo()\n",
    "\n",
    "# Explore output\n",
    "eastern_eddi[0:3]\n",
    "# Create dataframe for each point\n",
    "df_eastern = array_to_df(eastern_eddi)\n",
    "df_western = array_to_df(western_eddi)\n",
    "\n",
    "# Display a few rows\n",
    "df_eastern.head()"
   ]
  },
  {
   "cell_type": "code",
   "execution_count": null,
   "metadata": {},
   "outputs": [],
   "source": [
    "# Create figure to compare EDDI for both points\n",
    "plt.figure(figsize=(8,4))\n",
    "plt.title('EDDI Kansas 2021-2022')\n",
    "plt.plot(df_eastern['time'], df_eastern['eddi14d'], linestyle='-', color='navy', label='Eastern KS')\n",
    "plt.plot(df_western['time'], df_western['eddi14d'], linestyle='-', color='tomato', label='Western KS')\n",
    "plt.legend()\n",
    "plt.ylabel('14-day EDDI', size=14)\n",
    "plt.show()"
   ]
  },
  {
   "cell_type": "code",
   "execution_count": null,
   "metadata": {},
   "outputs": [],
   "source": [
    "# Compute difference. If negative, that means that drought potential is greater in\n",
    "# western Kansas\n",
    "\n",
    "plt.figure(figsize=(8,4))\n",
    "plt.title('EDDI Difference eastern-western Kansas')\n",
    "plt.plot(df_eastern['time'], df_eastern['eddi14d']-df_western['eddi14d'], linestyle='-', color='navy')\n",
    "plt.axhline(0, linestyle='--', color='k')\n",
    "plt.ylabel('14-day EDDI', size=14)\n",
    "plt.show()"
   ]
  },
  {
   "cell_type": "code",
   "execution_count": null,
   "metadata": {},
   "outputs": [],
   "source": [
    "# Define points\n",
    "data = {'latitude': [38.7640, 38.7628, 38.7787, 38.7642, 38.7162, 38.7783],\n",
    "        'longitude':[-101.8946, -101.8069, -101.6937, -101.9922, -101.8284, -101.9919],\n",
    "        'irrigated':[True, True, True, False, False, False]}\n",
    "\n",
    "df = pd.DataFrame(data)\n",
    "# Get product\n",
    "MOD13Q1 = ee.ImageCollection(\"MODIS/061/MOD13Q1\").filterDate(ee.Date(\"2022-04-01\"),ee.Date(\"2022-11-15\"))"
   ]
  },
  {
   "cell_type": "code",
   "execution_count": null,
   "metadata": {},
   "outputs": [],
   "source": [
    "# Iterate over each point and retrieve NDVI\n",
    "ndvi={}\n",
    "\n",
    "for k, row in df.iterrows():\n",
    "    point = ee.Geometry.Point(row['longitude'], row['latitude'])\n",
    "    result = MOD13Q1.select('NDVI').getRegion(point, 0.01).getInfo()\n",
    "    result_in_colums = np.transpose(result)\n",
    "    ndvi[f\"field_{k+1}\"] = result_in_colums[4][1:]\n",
    "    dates = result_in_colums[0][1:]"
   ]
  },
  {
   "cell_type": "code",
   "execution_count": null,
   "metadata": {},
   "outputs": [],
   "source": [
    "# Create Dataframe with the NDVI data for each field\n",
    "df_ndvi = pd.DataFrame(ndvi,dtype=float)\n",
    "\n",
    "# Add dates as index\n",
    "df_ndvi.index = pd.to_datetime(dates, format='%Y_%m_%d')\n",
    "\n",
    "# Apply conversion factor\n",
    "df_ndvi = df_ndvi*0.0001\n",
    "\n",
    "df_ndvi.head()"
   ]
  },
  {
   "cell_type": "code",
   "execution_count": null,
   "metadata": {},
   "outputs": [],
   "source": [
    "df_ndvi.plot(figsize=(8,4))\n",
    "plt.title('NDVI Irrigated vs Rainfed Corn in Kansas')\n",
    "plt.xlabel('Date')\n",
    "plt.ylabel('NDVI')\n",
    "plt.show()"
   ]
  },
  {
   "cell_type": "code",
   "execution_count": null,
   "metadata": {},
   "outputs": [],
   "source": [
    "# Define function to create raster map\n",
    "# Declare a function (blueprint)\n",
    "def create_raster(ee_object, vis_params, name):\n",
    "    \"\"\"Function that creates a folium raster layer\"\"\"\n",
    "    raster = folium.raster_layers.TileLayer(ee_object.getMapId(vis_params)['tile_fetcher'].url_format,\n",
    "                                       name=name,\n",
    "                                       overlay=True,\n",
    "                                       control=True,\n",
    "                                       attr='Map Data &copy; <a href=\"https://earthengine.google.com/\">Google Earth Engine</a>')\n",
    "    return raster"
   ]
  },
  {
   "cell_type": "code",
   "execution_count": null,
   "metadata": {},
   "outputs": [],
   "source": [
    "# US Counties dataset\n",
    "US_counties = ee.FeatureCollection(\"TIGER/2018/Counties\") \n",
    "\n",
    "# Select county of interest\n",
    "state_FIP = '20'\n",
    "county_name = 'Thomas'\n",
    "county = US_counties.filter(ee.Filter.eq('STATEFP','20').And(ee.Filter.eq('NAME','Thomas')).And(ee.Filter.eq('GEOID','20193')))\n",
    "county_meta = county.getInfo()"
   ]
  },
  {
   "cell_type": "code",
   "execution_count": null,
   "metadata": {},
   "outputs": [],
   "source": [
    "### Select cropland datalayer ###\n",
    "start_date = '2018-01-01'\n",
    "end_date = '2018-12-31'\n",
    "CDL = ee.ImageCollection('USDA/NASS/CDL').filter(ee.Filter.date(start_date,end_date)).first()\n",
    "cropland = CDL.select('cropland')\n",
    "\n",
    "# Clip cropland layer to selected county\n",
    "county_cropland = cropland.clip(county)\n",
    "\n",
    "\n",
    "### Select vegetation index (vi) ###\n",
    "band = 'EVI' # or 'NDVI'\n",
    "\n",
    "# Define start and end of time series for vegetation index\n",
    "start_date_vi = '2017-10-15'\n",
    "end_date_vi = '2018-06-15'\n",
    "\n",
    "# Request dataset and band\n",
    "MCD43A4 = ee.ImageCollection('MODIS/MCD43A4_006_EVI').filterDate(start_date_vi,end_date_vi)\n",
    "vi = MCD43A4.select('EVI')"
   ]
  },
  {
   "cell_type": "code",
   "execution_count": null,
   "metadata": {},
   "outputs": [],
   "source": [
    "# Get county boundaries\n",
    "location_lat = float(county_meta['features'][0]['properties']['INTPTLAT'])\n",
    "location_lon = float(county_meta['features'][0]['properties']['INTPTLON'])\n",
    "\n",
    "# Visualize county boundaries\n",
    "m = folium.Map(location=[location_lat, location_lon], zoom_start=10)\n",
    "\n",
    "# Add click event to paste coordinates into the clipboard\n",
    "m.add_child(folium.ClickForLatLng(alert=False))\n",
    "m.add_child(folium.LatLngPopup())\n",
    "\n",
    "# Create raster using function defined earlier and add map\n",
    "create_raster(county_cropland, {}, 'cropland').add_to(m)\n",
    "folium.GeoJson(county.getInfo(),\n",
    "               name='County boundary',\n",
    "        style_function=lambda feature: {\n",
    "        'fillColor': 'None',\n",
    "        'color': 'black',\n",
    "        'weight': 2,\n",
    "        'dashArray': '5, 5'\n",
    "    }).add_to(m)\n",
    "\n",
    "# Add some controls\n",
    "folium.LayerControl().add_to(m)\n",
    "\n",
    "# Display map\n",
    "m"
   ]
  },
  {
   "cell_type": "code",
   "execution_count": null,
   "metadata": {},
   "outputs": [],
   "source": [
    "lat, lon = eval(clipboard.paste())\n",
    "print(lat, lon)\n",
    "\n",
    "# Define selected coordinates as point geometry\n",
    "field_point = ee.Geometry.Point([lon, lat])\n",
    "\n",
    "point_evi = EVI.getRegion(field_point, scale=1).getInfo()\n",
    "df_point = array_to_df(point_evi)\n",
    "\n",
    "if 'df' not in locals():\n",
    "    df = df_point\n",
    "else:\n",
    "    df = pd.concat([df, df_point])\n",
    "    \n",
    "evi_mean = df.groupby(by='time', as_index=False)['EVI'].median()\n",
    "evi_mean['smoothed'] = evi_mean['EVI'].rolling(window=15, min_periods=1, center=True).mean()\n",
    "\n",
    "# Create figure\n",
    "plt.figure(figsize=(8,4))\n",
    "plt.plot(evi_mean['time'], evi_mean['smoothed'], color='tomato', linewidth=2)\n",
    "for lat in df['latitude'].unique():\n",
    "    idx = df['latitude'] == lat\n",
    "    plt.plot(df.loc[idx,'time'], df.loc[idx,'EVI'], linestyle='-', linewidth=1, color='gray')\n",
    "\n",
    "plt.show()"
   ]
  }
 ],
 "metadata": {
  "kernelspec": {
   "display_name": "venv",
   "language": "python",
   "name": "python3"
  },
  "language_info": {
   "codemirror_mode": {
    "name": "ipython",
    "version": 3
   },
   "file_extension": ".py",
   "mimetype": "text/x-python",
   "name": "python",
   "nbconvert_exporter": "python",
   "pygments_lexer": "ipython3",
   "version": "3.11.8"
  }
 },
 "nbformat": 4,
 "nbformat_minor": 2
}
