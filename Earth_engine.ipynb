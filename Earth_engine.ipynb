{
 "cells": [
  {
   "cell_type": "code",
   "execution_count": 7,
   "metadata": {},
   "outputs": [],
   "source": [
    "# Import modules\n",
    "import ee\n",
    "import pandas as pd\n",
    "import matplotlib.pyplot as plt\n",
    "from datetime import datetime\n",
    "from pprint import pprint"
   ]
  },
  {
   "cell_type": "code",
   "execution_count": 4,
   "metadata": {},
   "outputs": [],
   "source": [
    "# Authenticate\n",
    "#ee.Authenticate()\n",
    "\n",
    "# Initialize the library.\n",
    "ee.Initialize()"
   ]
  },
  {
   "cell_type": "code",
   "execution_count": null,
   "metadata": {},
   "outputs": [],
   "source": [
    "# Define geographic coordinates\n",
    "lat = 39.186512 # This is y\n",
    "lon = -96.576844 # This is x\n",
    "\n",
    "# Convert coordinates into a Point geometry following the x,y notation\n",
    "point = ee.Geometry.Point([lon, lat])\n",
    "\n",
    "# Explore point geometry\n",
    "point.getInfo()"
   ]
  },
  {
   "cell_type": "code",
   "execution_count": null,
   "metadata": {},
   "outputs": [],
   "source": [
    "# Load digital elevation model (DEM) from Shuttle Radar Topography Mission (SRTM) \n",
    "dem = ee.Image('USGS/SRTMGL1_003')"
   ]
  },
  {
   "cell_type": "code",
   "execution_count": null,
   "metadata": {},
   "outputs": [],
   "source": [
    "# Obtain some information about the DEM layer (output is long!)\n",
    "pprint(dem.getInfo())"
   ]
  },
  {
   "cell_type": "code",
   "execution_count": null,
   "metadata": {},
   "outputs": [],
   "source": [
    "# Retrieve the elevation value: This step will get us close to the answer, but we are not there yet\n",
    "pprint(dem.sample(point, 1).getInfo())"
   ]
  },
  {
   "cell_type": "code",
   "execution_count": null,
   "metadata": {},
   "outputs": [],
   "source": [
    "# Retrieve the elevation value: This step will get us even closer to the answer, but we are not there yet\n",
    "dem.sample(point, 1).first().getInfo()"
   ]
  },
  {
   "cell_type": "code",
   "execution_count": 10,
   "metadata": {},
   "outputs": [
    {
     "name": "stdout",
     "output_type": "stream",
     "text": [
      "Elevation: 317 m\n"
     ]
    }
   ],
   "source": [
    "# Retrieve the elevation value: This step will get us the correct value\n",
    "elev = dem.sample(point, 1).first().getNumber('elevation').getInfo()\n",
    "print(f'Elevation: {elev} m')"
   ]
  },
  {
   "cell_type": "code",
   "execution_count": 5,
   "metadata": {},
   "outputs": [],
   "source": [
    "# Load the SoilGrids dataset from GEE\n",
    "soilgrids_sand = ee.Image(\"projects/soilgrids-isric/sand_mean\")\n",
    "soilgrids_clay = ee.Image(\"projects/soilgrids-isric/clay_mean\")\n",
    "\n",
    "# Load Polaris dataset\n",
    "# Note: It's easier to load the image than the ImageCollection.\n",
    "# Check the 'id' of each feature in the ImageCollection to get the link for the Image\n",
    "# Code for ImageCollection: ee.ImageCollection('projects/sat-io/open-datasets/polaris/sand_mean')\n",
    "polaris_sand = ee.Image('projects/sat-io/open-datasets/polaris/sand_mean/sand_0_5')\n",
    "polaris_clay = ee.Image('projects/sat-io/open-datasets/polaris/clay_mean/clay_0_5')"
   ]
  },
  {
   "cell_type": "code",
   "execution_count": null,
   "metadata": {},
   "outputs": [],
   "source": [
    "soilgrids_sand.getInfo()"
   ]
  },
  {
   "cell_type": "code",
   "execution_count": 8,
   "metadata": {},
   "outputs": [],
   "source": [
    "# Create dictionary with station metadata\n",
    "\n",
    "stations = [\n",
    "    {'name': 'Ashland Bottoms', 'latitude': 39.125773, 'longitude': -96.63653},\n",
    "    {'name': 'Belleville 2W', 'latitude': 39.81409, 'longitude': -97.675093},\n",
    "    {'name': 'Colby', 'latitude': 39.39247, 'longitude': -101.06864},\n",
    "    {'name': 'Garden City', 'latitude': 37.99733, 'longitude': -100.81514},\n",
    "    {'name': 'Gypsum', 'latitude': 38.72522, 'longitude': -97.44415},\n",
    "    {'name': 'Hutchinson 10SW', 'latitude': 37.93097, 'longitude': -98.02},\n",
    "    {'name': 'Manhattan', 'latitude': 39.20857, 'longitude': -96.59169},\n",
    "    {'name': 'Ottawa 2SE', 'latitude': 38.54268, 'longitude': -95.24647},\n",
    "    {'name': 'Parsons', 'latitude': 37.36875, 'longitude': -95.28771},\n",
    "    {'name': 'Rossville 2SE', 'latitude': 39.11661, 'longitude': -95.91572},\n",
    "    {'name': 'Silver Lake 4E', 'latitude': 39.09213, 'longitude': -95.78153},\n",
    "    {'name': 'Tribune 6NE', 'latitude': 38.53041, 'longitude': -101.66434},\n",
    "    {'name': 'Woodson', 'latitude': 37.8612, 'longitude': -95.7836}\n",
    "]"
   ]
  },
  {
   "cell_type": "code",
   "execution_count": null,
   "metadata": {},
   "outputs": [],
   "source": [
    "# We will retrieve both datasets at 250-meter resolution to match the \n",
    "# coarser dataset.\n",
    "\n",
    "# Iterate over each station metadata\n",
    "for k,station in enumerate(stations):\n",
    "    \n",
    "    # Display current state of the loop\n",
    "    print(f\"Requesting data for {station['name']}\")\n",
    "    \n",
    "    # Convert geographic coordinates into a Point geometry\n",
    "    # following the x,y notation\n",
    "    point = ee.Geometry.Point([station['longitude'], station['latitude']])\n",
    "    \n",
    "    # Soil Grids: Sample image and then select first and only feature with property value\n",
    "    stations[k]['sand_soilgrids'] = soilgrids_sand.sample(point, 250).first().getNumber('sand_0-5cm_mean').multiply(0.1).getInfo()\n",
    "    stations[k]['clay_soilgrids'] = soilgrids_clay.sample(point, 250).first().getNumber('clay_0-5cm_mean').multiply(0.1).getInfo()\n",
    "\n",
    "    # Polaris: Sample image and then select first and only feature with property value\n",
    "    stations[k]['sand_polaris'] = polaris_sand.sample(point, 250).first().getNumber('b1').getInfo()\n",
    "    stations[k]['clay_polaris'] = polaris_clay.sample(point, 250).first().getNumber('b1').getInfo()"
   ]
  },
  {
   "cell_type": "code",
   "execution_count": null,
   "metadata": {},
   "outputs": [],
   "source": [
    "# Convert dictionary into a dataframe for easier visualization\n",
    "df = pd.DataFrame(stations)\n",
    "df.head(3)"
   ]
  },
  {
   "cell_type": "code",
   "execution_count": null,
   "metadata": {},
   "outputs": [],
   "source": [
    "plt.figure(figsize=(8,3))\n",
    "\n",
    "plt.subplot(1,2,1)\n",
    "plt.title('Sand 0-5 cm')\n",
    "plt.scatter(df['sand_soilgrids'], df['sand_polaris'],facecolor='w',edgecolor='k')\n",
    "plt.xlabel('Sand Soil Grids (%)')\n",
    "plt.ylabel('Sand Polaris (%)')\n",
    "plt.xlim([0,100])\n",
    "plt.ylim([0,100])\n",
    "plt.axline((0,0), slope=1, color='grey', linestyle=':')\n",
    "\n",
    "plt.subplot(1,2,2)\n",
    "plt.title('Clay 0-5 cm')\n",
    "plt.scatter(df['clay_soilgrids'], df['clay_polaris'],facecolor='w',edgecolor='k')\n",
    "plt.xlabel('Clay Soil Grids (%)')\n",
    "plt.ylabel('Clay Polaris (%)')\n",
    "plt.xlim([0,50])\n",
    "plt.ylim([0,50])\n",
    "plt.axline((0,0), slope=1, color='grey', linestyle=':')\n",
    "\n",
    "plt.subplots_adjust(wspace=0.4)\n",
    "plt.show()"
   ]
  }
 ],
 "metadata": {
  "kernelspec": {
   "display_name": "venv",
   "language": "python",
   "name": "python3"
  },
  "language_info": {
   "codemirror_mode": {
    "name": "ipython",
    "version": 3
   },
   "file_extension": ".py",
   "mimetype": "text/x-python",
   "name": "python",
   "nbconvert_exporter": "python",
   "pygments_lexer": "ipython3",
   "version": "3.11.8"
  }
 },
 "nbformat": 4,
 "nbformat_minor": 2
}
