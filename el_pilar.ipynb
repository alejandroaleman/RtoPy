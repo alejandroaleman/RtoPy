{
 "cells": [
  {
   "cell_type": "code",
   "execution_count": 10,
   "metadata": {},
   "outputs": [],
   "source": [
    "import ee\n",
    "import json\n",
    "import requests\n",
    "import geopandas as gpd"
   ]
  },
  {
   "cell_type": "code",
   "execution_count": 4,
   "metadata": {},
   "outputs": [],
   "source": [
    "# Authenticate\n",
    "#ee.Authenticate()\n",
    "\n",
    "# Initialize API\n",
    "ee.Initialize()"
   ]
  },
  {
   "cell_type": "code",
   "execution_count": 17,
   "metadata": {},
   "outputs": [],
   "source": [
    "with open('/home/alejandro/Documentos/GIS/El_Pilar/Area_Interes.geojson') as file:\n",
    "    aoi_json = json.load(file)\n",
    "aoi = ee.Geometry(aoi_json['features'][0]['geometry'])\n",
    "sentinel2 = ee.ImageCollection('COPERNICUS/S2_SR_HARMONIZED').filterDate('2024-06-01', '2024-08-09').filterBounds(aoi)"
   ]
  },
  {
   "cell_type": "code",
   "execution_count": 43,
   "metadata": {},
   "outputs": [],
   "source": [
    "for image in sentinel2.getInfo()['features']:\n",
    "    # Obtiene el id y la fecha de la imagen\n",
    "    date = ee.Date(image['properties']['system:time_start']).format('YYYY-MM-dd').getInfo()\n",
    "\n",
    "    # Crea el nombre del archivo\n",
    "    filename = f\"{date}.tif\"\n",
    "\n",
    "    # Selecciona la imagen y recorta con el área de interés\n",
    "    img = ee.Image(image['id']).select(['B4', 'B3', 'B2']).clip(aoi)\n",
    "\n",
    "    # Descarga la imagen\n",
    "    url = img.getDownloadUrl({\n",
    "        'name': filename,\n",
    "        'scale': 10,  # escala en metros\n",
    "        'crs': 'EPSG:4326',  # sistema de coordenadas\n",
    "        'format': 'GEO_TIFF'\n",
    "    })\n",
    "\n",
    "    # Descarga el archivo\n",
    "    response = requests.get(url)\n",
    "    with open(filename, 'wb') as f:\n",
    "        f.write(response.content)"
   ]
  }
 ],
 "metadata": {
  "kernelspec": {
   "display_name": "venv",
   "language": "python",
   "name": "python3"
  },
  "language_info": {
   "codemirror_mode": {
    "name": "ipython",
    "version": 3
   },
   "file_extension": ".py",
   "mimetype": "text/x-python",
   "name": "python",
   "nbconvert_exporter": "python",
   "pygments_lexer": "ipython3",
   "version": "3.12.4"
  }
 },
 "nbformat": 4,
 "nbformat_minor": 2
}
